{
 "cells": [
  {
   "cell_type": "code",
   "execution_count": 125,
   "metadata": {},
   "outputs": [
    {
     "name": "stdout",
     "output_type": "stream",
     "text": [
      "This is game of guessing the number. Number is between 1 and 15. You have 3 chance to guess the number\n",
      "Take a guess.\n",
      "7\n",
      "Your guess is low.\n",
      "Take a guess.\n",
      "10\n",
      "Your guess is low.\n",
      "Take a guess.\n",
      "14\n",
      "Hooray! You guessed the number in 3 guesses!\n"
     ]
    }
   ],
   "source": [
    "import random\n",
    "number = random.randint(1, 15)\n",
    "print('This is game of guessing the number. Number is between 1 and 15. You have 3 chance to guess the number')\n",
    "\n",
    "for guessesTaken in range(1, 4):\n",
    "    print('Take a guess.')\n",
    "    guess = int(input())\n",
    "    if guess < number:\n",
    "        print('Your guess is low.')\n",
    "    elif guess > number:\n",
    "        print('Your guess is high.')\n",
    "    else:\n",
    "        break    # This condition is the correct guess!\n",
    "\n",
    "if guess == number:\n",
    "    print('Hooray! You guessed the number in ' + str(guessesTaken) + ' guesses!')\n",
    "else:\n",
    "    print('Nope. The number was ' + str(number) +'. Better luck next time!')\n",
    " "
   ]
  },
  {
   "cell_type": "code",
   "execution_count": null,
   "metadata": {},
   "outputs": [],
   "source": []
  },
  {
   "cell_type": "code",
   "execution_count": null,
   "metadata": {},
   "outputs": [],
   "source": []
  },
  {
   "cell_type": "code",
   "execution_count": null,
   "metadata": {},
   "outputs": [],
   "source": []
  }
 ],
 "metadata": {
  "kernelspec": {
   "display_name": "Python 3",
   "language": "python",
   "name": "python3"
  },
  "language_info": {
   "codemirror_mode": {
    "name": "ipython",
    "version": 3
   },
   "file_extension": ".py",
   "mimetype": "text/x-python",
   "name": "python",
   "nbconvert_exporter": "python",
   "pygments_lexer": "ipython3",
   "version": "3.8.3"
  }
 },
 "nbformat": 4,
 "nbformat_minor": 4
}
